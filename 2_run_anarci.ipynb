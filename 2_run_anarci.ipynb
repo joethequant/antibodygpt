{
 "cells": [
  {
   "cell_type": "code",
   "execution_count": 9,
   "metadata": {},
   "outputs": [],
   "source": [
    "## You must install ANARCI into the conda virtual environment before running this notebook.\n",
    "import numpy as np\n",
    "import subprocess\n",
    "import os\n",
    "\n",
    "# make sure to add ANARCI to Path\n",
    "os.environ['PATH'] = '/root/miniconda3/envs/anarci/bin:' + os.environ['PATH']"
   ]
  },
  {
   "cell_type": "code",
   "execution_count": 10,
   "metadata": {},
   "outputs": [
    {
     "name": "stdout",
     "output_type": "stream",
     "text": [
      "/root/miniconda3/envs/anarci/bin/ANARCI\n"
     ]
    }
   ],
   "source": [
    "!which ANARCI"
   ]
  },
  {
   "cell_type": "code",
   "execution_count": 11,
   "metadata": {},
   "outputs": [
    {
     "name": "stdout",
     "output_type": "stream",
     "text": [
      "Species: human, E-Score: 1.4e-59, Score: 191.0\n",
      "Heavy Chain: ['E' 'V' 'Q' 'L' 'V' 'Q' 'S' '-' 'G' 'G' 'G' 'L' 'V' 'K' 'P' 'G' 'G' 'S'\n",
      " 'L' 'R' 'L' 'S' 'C' 'A' 'A' 'S' 'G' '-' 'F' 'T' 'F' 'S' 'G' '-' '-' '-'\n",
      " '-' '-' 'Y' 'T' 'M' 'N' 'W' 'V' 'R' 'Q' 'A' 'P' 'G' 'K' 'G' 'L' 'E' 'W'\n",
      " 'V' 'S' 'G' 'I' 'S' 'G' 'N' '-' '-' '-' 'S' 'G' 'I' 'I' 'E' 'Y' 'A' 'D'\n",
      " 'S' 'V' 'K' 'G' 'R' 'F' 'T' 'I' 'S' 'R' 'D' 'N' 'S' 'K' 'N' 'T' 'L' 'Y'\n",
      " 'L' 'Q' 'M' 'N' 'S' 'L' 'R' 'A' 'E' 'D' 'T' 'A' 'L' 'Y' 'Y' 'C' 'A' 'K'\n",
      " 'D' 'I' 'L' 'G' 'G' '-' '-' '-' '-' '-' '-' '-' '-' '-' '-' '-' '-' '-'\n",
      " '-' '-' '-' '-' '-' '-' 'F' 'Y' 'Y' 'F' 'D' 'Y' 'W' 'G' 'Q' 'G' 'T' 'P'\n",
      " 'V' 'T' 'V' 'S' 'S']\n",
      "Light Chain: ['-' '-' 'V' 'L' 'T' 'Q' 'S' 'P' 'L' 'S' 'L' 'P' 'V' 'T' 'L' 'G' 'Q' 'P'\n",
      " 'A' 'S' 'I' 'S' 'C' 'R' 'S' 'S' '-' '-' 'Q' 'S' 'L' 'V' 'F' 'S' 'D' '-'\n",
      " 'G' 'N' 'T' 'Y' 'L' 'H' 'W' 'F' 'Q' 'Q' 'R' 'P' 'G' 'Q' 'P' 'P' 'R' 'R'\n",
      " 'L' 'I' 'Y' 'Q' '-' '-' '-' '-' '-' '-' '-' '-' 'V' 'S' 'N' 'R' 'D' 'S'\n",
      " 'G' 'V' 'P' 'D' 'R' 'F' 'S' 'G' 'S' 'G' 'S' 'G' '-' '-' 'T' 'D' 'F' 'T'\n",
      " 'L' 'K' 'I' 'S' 'R' 'V' 'E' 'A' 'E' 'D' 'V' 'G' 'V' 'Y' 'Y' 'C' 'M' 'Q'\n",
      " 'A' 'L' 'Q' '-' '-' '-' '-' '-' '-' '-' '-' '-' '-' '-' '-' '-' '-' '-'\n",
      " '-' '-' '-' '-' '-' '-' '-' '-' 'V' 'H' 'S' 'T' 'F' 'G' 'P' 'G' 'T' 'T'\n",
      " 'V' 'D' 'I' 'K']\n"
     ]
    }
   ],
   "source": [
    "def run_anarci(sequence):\n",
    "    # Run ANARCI as a subprocess\n",
    "\n",
    "    result = subprocess.run(['ANARCI', '--sequence', sequence, '--scheme', 'aho'], capture_output=True, text=True)\n",
    "\n",
    "    sequence_results = result.stdout.split('\\n')\n",
    "    blank, species, chain_type, e_value, score, seqstart_index, seqend_index, blank_2 = sequence_results[5].split('|')\n",
    "\n",
    "    h_seq = []\n",
    "    l_seq = []\n",
    "    for row in sequence_results[7:]:\n",
    "        row = [x for x in row.split(' ') if x != '']\n",
    "        if (len(row) == 3) and (row[0] == 'H'):       \n",
    "            h_seq.append(row[2])\n",
    "        elif (len(row) == 3) and (row[0] == 'L'):\n",
    "            l_seq.append(row[2])\n",
    "\n",
    "    heavy_chain = np.array(h_seq)\n",
    "    light_chain = np.array(l_seq)\n",
    "    \n",
    "    return species, e_value, score, heavy_chain, light_chain\n",
    "\n",
    "\n",
    "# Test\n",
    "sequence = \"EVQLVQSGGGLVKPGGSLRLSCAASGFTFSGYTMNWVRQAPGKGLEWVSGISGNSGIIEYADSVKGRFTISRDNSKNTLYLQMNSLRAEDTALYYCAKDILGGFYYFDYWGQGTPVTVSSGGGGGGGGGVLTQSPLSLPVTLGQPASISCRSSQSLVFSDGNTYLHWFQQRPGQPPRRLIYQVSNRDSGVPDRFSGSGSGTDFTLKISRVEAEDVGVYYCMQALQVHSTFGPGTTVDIK\"\n",
    "species, e_value, score, heavy_chain, light_chain = run_anarci(sequence)\n",
    "print(f\"Species: {species}, E-Score: {e_value}, Score: {score}\")\n",
    "print(f\"Heavy Chain: {heavy_chain}\")\n",
    "print(f\"Light Chain: {light_chain}\")"
   ]
  },
  {
   "cell_type": "code",
   "execution_count": null,
   "metadata": {},
   "outputs": [],
   "source": []
  }
 ],
 "metadata": {
  "kernelspec": {
   "display_name": "anarci",
   "language": "python",
   "name": "anarci"
  },
  "language_info": {
   "codemirror_mode": {
    "name": "ipython",
    "version": 3
   },
   "file_extension": ".py",
   "mimetype": "text/x-python",
   "name": "python",
   "nbconvert_exporter": "python",
   "pygments_lexer": "ipython3",
   "version": "3.11.5"
  }
 },
 "nbformat": 4,
 "nbformat_minor": 4
}
